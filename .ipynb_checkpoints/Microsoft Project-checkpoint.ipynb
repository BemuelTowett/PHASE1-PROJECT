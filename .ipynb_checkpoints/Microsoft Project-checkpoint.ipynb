{
 "cells": [
  {
   "cell_type": "markdown",
   "metadata": {},
   "source": [
    "# BUSINESS UNDERSTANDING\n",
    "# 1. SPECIFYING THE QUESTION\n",
    "## Determine what type of films are currently successful and define business success criteria\n",
    "## It's expected to use datasets provided to direct microsoft on the type of films to produce\n",
    "## Objectives :\n",
    "     > Determining the Budget\n",
    "     > Determining the Directors and Actors\n",
    "     > Determining the Release time\n",
    "     > Determinign the Genre\n",
    "# 2. DEFINING METRIC OF SUCCESS\n",
    "## It would be deemed successful if the question is answered and objectives met\n",
    "\n",
    "# 3. EXPERIMENTAL DESIGN\n",
    "## a) Loading datasets and preparing the data\n",
    "## b) Data cleaning to deal with anomalies, outliers, duplicates and missing value\n",
    "## c) Data analysis with EDA\n",
    "## d) Conclusion and recommendation"
   ]
  },
  {
   "cell_type": "markdown",
   "metadata": {},
   "source": [
    "# LOADING AND PREPARING DATA"
   ]
  },
  {
   "cell_type": "code",
   "execution_count": null,
   "metadata": {},
   "outputs": [],
   "source": []
  },
  {
   "cell_type": "markdown",
   "metadata": {},
   "source": [
    "# DATA CLEANING"
   ]
  },
  {
   "cell_type": "code",
   "execution_count": null,
   "metadata": {},
   "outputs": [],
   "source": []
  },
  {
   "cell_type": "markdown",
   "metadata": {},
   "source": [
    "# DATA ANALYSIS"
   ]
  },
  {
   "cell_type": "code",
   "execution_count": null,
   "metadata": {},
   "outputs": [],
   "source": []
  },
  {
   "cell_type": "markdown",
   "metadata": {},
   "source": [
    "# CONCLUSION AND RECOMMENDATION"
   ]
  },
  {
   "cell_type": "code",
   "execution_count": null,
   "metadata": {},
   "outputs": [],
   "source": []
  }
 ],
 "metadata": {
  "kernelspec": {
   "display_name": "Python (learn-env)",
   "language": "python",
   "name": "learn-env"
  },
  "language_info": {
   "codemirror_mode": {
    "name": "ipython",
    "version": 3
   },
   "file_extension": ".py",
   "mimetype": "text/x-python",
   "name": "python",
   "nbconvert_exporter": "python",
   "pygments_lexer": "ipython3",
   "version": "3.8.5"
  }
 },
 "nbformat": 4,
 "nbformat_minor": 4
}
